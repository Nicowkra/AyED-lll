{
 "cells": [
  {
   "cell_type": "markdown",
   "id": "c0ad6e38-6221-4f3d-b7aa-36d1544c1367",
   "metadata": {},
   "source": [
    "# Ej 1"
   ]
  },
  {
   "cell_type": "markdown",
   "id": "24fe253f-9919-41ab-99f9-1be0c0a8aa95",
   "metadata": {},
   "source": [
    "__Algoritmo:__\n",
    "- Divido la lista en la mitad\n",
    "- Sumo los elementos y veo si el lado izq es mayor que el derecho\n",
    "- si el lado izq es mayor vuelvo a dividir\n",
    "- repito\n",
    "- El algoritmo para si la sublista tiene un solo elemento o el lado derecho es mas grande que el izquierdo"
   ]
  },
  {
   "cell_type": "markdown",
   "id": "8e7dfdb3-319e-4c82-8059-ea246a61c6d8",
   "metadata": {},
   "source": [
    "__Complejidad:__  \n",
    "Cada llamado divide el problema en dos mitades, luego en cada llamado hay que sumar ambas mitades lo que es O(n).  \n",
    "Por teo maestro: $T(n) = aT* \\frac{n}{b} + f(n)$, donde a es la cantidad de subproblemas creados en cada llamado ,b en cuanto se reduce cada problema y f(n) el trabajo externo a las llamadas (sumar, restar, etc)  \n",
    "En este caso, $ T(n) = 2T* \\frac{n}{2} + O(n)$ $\\Rightarrow$ $T(n) = O(n*log(n))$\n"
   ]
  },
  {
   "cell_type": "markdown",
   "id": "7a6fe812-31d7-4351-8c5e-1e1b1eb0c798",
   "metadata": {},
   "source": [
    "# Ej 2"
   ]
  },
  {
   "cell_type": "markdown",
   "id": "fea5276e-5ce4-4969-aa40-faec2880792b",
   "metadata": {},
   "source": [
    "__Algoritmo:__  Uso busqueda binaria\n",
    "- veo la mitad del arreglo si L[i] = i\n",
    "- Si L[i]>i, todos los elementos de la derecha seran mayores a i, descarto la segunda mitad y pruebo de nuevo con el lado izquierdo\n",
    "- Si L[i]<i, todos los elementos de la izquierda seran menores a i, descarto la primera mitad y pruebo con el lado derecho"
   ]
  },
  {
   "cell_type": "markdown",
   "id": "2f3655a3-7c11-4696-9c2a-a31da3c7ec12",
   "metadata": {},
   "source": [
    "__Complejidad:__  \n",
    "Por teo maestro, $T(n) = 1T * \\frac{n}{2} + O(1)$, pues comparar L[i]==i es O(1)  \n",
    "$\\Rightarrow$ $r = log_{b}(a)$ = 0 $\\Rightarrow$ $f(n) = O(n^{0}*log^{0}(n))$ $\\Rightarrow$ $T = O(n^{0}*log^{1}(n)) = O(log(n))$"
   ]
  },
  {
   "cell_type": "markdown",
   "id": "1bb936c5-c71b-457f-943a-067568625853",
   "metadata": {},
   "source": [
    "# Ej 3"
   ]
  },
  {
   "cell_type": "markdown",
   "id": "dc0ceb41-85a5-476f-ac27-94ef1595bcf6",
   "metadata": {},
   "source": [
    "__Algoritmo:__  \n",
    "- En vez de multiplicar b veces a, voy a dividir el exponente a la mitad en cada llamado\n",
    "- Si es par $a^{b} = (a^{b/2})^{2}$\n",
    "- Si es impar $a^{b} = a*a^{b-1} = a*(a^{b/2})^{2}$"
   ]
  },
  {
   "cell_type": "markdown",
   "id": "40122abd-2f32-4c39-a3ce-75bc832c5d4f",
   "metadata": {},
   "source": [
    "__Complejidad:__\n",
    "Por teo maestro, $T(n)=1T* \\frac{n}{2} + O(1)$  \n",
    "$\\Rightarrow$ $r = log_{b}(a)$ = 0 $\\Rightarrow$ $f(n) = O(n^{0}*log^{0}(n))$ $\\Rightarrow$ $T = O(n^{0}*log^{1}(n)) = O(log(n))$ "
   ]
  },
  {
   "cell_type": "markdown",
   "id": "dd3dab08-46aa-4e0f-a3db-1f180f9b8c42",
   "metadata": {},
   "source": [
    "# Ej 4"
   ]
  },
  {
   "cell_type": "markdown",
   "id": "5605c0c9-f1f6-4006-8d79-14e551f94773",
   "metadata": {},
   "source": [
    "## 1)"
   ]
  },
  {
   "cell_type": "markdown",
   "id": "d84a61d0-d8e5-41f5-a863-3780f33cb551",
   "metadata": {},
   "source": [
    "T(n) = T(n−2)+5  \n",
    "T(n-2) = T(n-4)+5  \n",
    ".  \n",
    ".  \n",
    ". \n",
    "\n",
    "T(n-(2k-1)) = T(n-2k) +5k\n",
    "cuando k=n/2, T(n) = T(0) + 5n/2, Asumo que el caso base es de costo C $\\Rightarrow$ T(n) = O(n) "
   ]
  },
  {
   "cell_type": "markdown",
   "id": "c03af283-f841-4b70-88c2-5ecf284f22a8",
   "metadata": {},
   "source": [
    "## 2)"
   ]
  },
  {
   "cell_type": "markdown",
   "id": "3a090aa9-bbf1-4111-b235-2a7e590f6d41",
   "metadata": {},
   "source": [
    "T(n) = T(n−1)+n\n",
    "T(n-1) = T(n-2)+(n-1), cuando k = 0,sumas los numeros de n hasta 1 $\\Rightarrow$ T(n) = $\\frac{n(n+1)}{2}$ $\\Rightarrow$ $O(n^{2})$"
   ]
  },
  {
   "cell_type": "markdown",
   "id": "b8b4c6bb-95b8-4613-b6ab-31ef67625176",
   "metadata": {},
   "source": [
    "## 3)"
   ]
  },
  {
   "cell_type": "markdown",
   "id": "4fbd0be7-f9d1-4160-a629-86eba5b8b08a",
   "metadata": {},
   "source": [
    "T(n) = T(n-1) + $\\sqrt{n}$  \n",
    "T(n-1) = T(n-2) + $\\sqrt{n-1}$\n",
    ".  \n",
    ".  \n",
    ".  \n",
    "$T(n) = T(n - k) + \\sum_{i=0}^{k-1} \\sqrt{n - i}$  \n",
    "cuando k = n, T(n) = T(0) + $\\sum_{i=0}^{k-1} \\sqrt{n - i}$ "
   ]
  },
  {
   "cell_type": "markdown",
   "id": "8b01b83b-0861-4047-bab6-ef0164600094",
   "metadata": {},
   "source": [
    "## 6)"
   ]
  },
  {
   "cell_type": "markdown",
   "id": "8a088ad6-8d8a-44d6-b085-8e008116e063",
   "metadata": {},
   "source": [
    "$T(n) = T(n/2)+n$  \n",
    "Por teo maestro, r=0 y $f(n)=O(n^{c})$ con c>r $\\Rightarrow$ siendo c=1, T(n) = O(n)"
   ]
  },
  {
   "cell_type": "markdown",
   "id": "d5f403cf-d06f-44ed-8382-61b62b658d9a",
   "metadata": {},
   "source": [
    "## 7)"
   ]
  },
  {
   "cell_type": "markdown",
   "id": "3fc3396e-73ce-4564-9674-740b48348a50",
   "metadata": {},
   "source": [
    "$T(n) = T(n/2)+\\sqrt{n}$  \n",
    "Por teo maestro, r=0 y $f(n)=O(n^{c})$ con c>r $\\Rightarrow$ siendo c=1/2, T(n) = O($\\sqrt{n}$)"
   ]
  },
  {
   "cell_type": "markdown",
   "id": "d52eae20-1aef-4380-9470-24555051208b",
   "metadata": {},
   "source": [
    "## 8)"
   ]
  },
  {
   "cell_type": "markdown",
   "id": "7f11ad0e-20a2-48dc-8be3-3e4be9783867",
   "metadata": {},
   "source": [
    "$T(n) = T(n/2)+n^{2}$  \n",
    "por teo maestro, r=0, y $f(n)=O(n^{c})$ con c>r $\\Rightarrow$ siendo c=2, T(n) = O($n^{2}$)"
   ]
  },
  {
   "cell_type": "markdown",
   "id": "ee8f1d64-9d90-43d1-8759-e5ee97e30d27",
   "metadata": {},
   "source": [
    "## 10)"
   ]
  },
  {
   "cell_type": "markdown",
   "id": "66a508c8-6c24-46e8-b473-2f7f26f8ca75",
   "metadata": {},
   "source": [
    "$T(n) = 2T(n/2)+log(n)$  \n",
    "Por teo maestro, r = 1 y #como hago log(n)???"
   ]
  },
  {
   "cell_type": "markdown",
   "id": "32e0781b-0ed9-46be-a8c2-3c4ec09cc229",
   "metadata": {},
   "source": [
    "## 11)"
   ]
  },
  {
   "cell_type": "markdown",
   "id": "24c5f982-a226-429a-ad04-34a4a0d3621f",
   "metadata": {},
   "source": [
    "$T(n) = 3T(n/4)$  \n",
    "Por teo maestro, $r \\simeq 0,792$ __#Como hago 0? seria complejidad 1???__  \n",
    "$f(n)=O(n^{c})$,siendo c=0 ,c<r $\\Rightarrow$ T(n) = $O(n^{0,792})$"
   ]
  },
  {
   "cell_type": "markdown",
   "id": "2f45ba36-9e2e-4428-8832-6432a9514a6a",
   "metadata": {},
   "source": [
    "## 12)"
   ]
  },
  {
   "cell_type": "markdown",
   "id": "e4c62439-346d-42a9-9597-5c3d5ba270d3",
   "metadata": {},
   "source": [
    "$T(n) = 3T(n/4)+n$  \n",
    "Por teo maestro, $r \\simeq 0,792$  \n",
    "$f(n)=O(n^{c})$,siendo c=1 ,c>r $\\Rightarrow $ T(n) = O(n)"
   ]
  },
  {
   "cell_type": "markdown",
   "id": "d1b2b87a-acdb-4220-96d3-a6800b53ed66",
   "metadata": {},
   "source": [
    "# Ej 5"
   ]
  },
  {
   "cell_type": "markdown",
   "id": "1ab65752-8745-44ee-bf5a-8812415d8ae2",
   "metadata": {},
   "source": [
    "__no entendi__"
   ]
  },
  {
   "cell_type": "markdown",
   "id": "d44d2560-bed2-4519-b4b8-4a9db891bbf5",
   "metadata": {},
   "source": [
    "# Ej 6"
   ]
  },
  {
   "cell_type": "markdown",
   "id": "6548fd7f-5384-4820-8ea6-dd69200dc219",
   "metadata": {},
   "source": [
    "__el camino mayor camino entre dos nodos? eso no seria recorrer en profundidad el lado izq y der y sumar?__"
   ]
  },
  {
   "cell_type": "code",
   "execution_count": 3,
   "id": "6a0a52da-7507-413b-a9b8-8fa96c54bb63",
   "metadata": {},
   "outputs": [],
   "source": [
    "def distMax(nodo):\n",
    "    if nodo==None:\n",
    "        return (-1,0)\n",
    "    diam_izq, alt_izq = distMax(nodo.izq)\n",
    "    diam_der, alt_der = distMax(nodo.der)\n",
    "\n",
    "    altura = max(alt_der,alt_izq) +1 \n",
    "    diam = max(diam_der,diam_izq,diam_der+diam_izq+2)\n",
    "\n",
    "    return (altura,diam)\n"
   ]
  },
  {
   "cell_type": "markdown",
   "id": "5f56d6a3-cbe2-46fb-998f-5dae0f6b8eee",
   "metadata": {},
   "source": [
    "# Ej 7"
   ]
  },
  {
   "cell_type": "markdown",
   "id": "ed5527d1-b20a-4d01-bfad-04d9965ead79",
   "metadata": {},
   "source": [
    "Modifico mergeSort para contar cuantos elementos mayores al insertado hay en el lado izq"
   ]
  },
  {
   "cell_type": "markdown",
   "id": "ca4c49e3-0a53-40b3-8b92-4217f3c5cb66",
   "metadata": {},
   "source": [
    "# Ej 8"
   ]
  },
  {
   "cell_type": "markdown",
   "id": "e72f5198-dbbd-422a-a5f5-417d40b2e37f",
   "metadata": {},
   "source": []
  },
  {
   "cell_type": "markdown",
   "id": "95449f6e-04fd-4a49-a2a8-65819c844406",
   "metadata": {},
   "source": []
  },
  {
   "cell_type": "markdown",
   "id": "b6966dca-fd47-4fb2-b72d-a40dbb33eefc",
   "metadata": {},
   "source": []
  },
  {
   "cell_type": "markdown",
   "id": "0bf15ced-c6b0-40cd-8ed1-9298a4b9d6ef",
   "metadata": {},
   "source": []
  },
  {
   "cell_type": "markdown",
   "id": "8eca695f-f616-4b69-9332-747526570a2c",
   "metadata": {},
   "source": []
  }
 ],
 "metadata": {
  "kernelspec": {
   "display_name": "Python [conda env:base] *",
   "language": "python",
   "name": "conda-base-py"
  },
  "language_info": {
   "codemirror_mode": {
    "name": "ipython",
    "version": 3
   },
   "file_extension": ".py",
   "mimetype": "text/x-python",
   "name": "python",
   "nbconvert_exporter": "python",
   "pygments_lexer": "ipython3",
   "version": "3.12.7"
  }
 },
 "nbformat": 4,
 "nbformat_minor": 5
}
