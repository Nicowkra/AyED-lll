{
 "cells": [
  {
   "cell_type": "markdown",
   "id": "097cb626-5f3f-4d70-b4bb-fb63dd46fa40",
   "metadata": {},
   "source": [
    "# Ej 1: ParejasdeBaile"
   ]
  },
  {
   "cell_type": "markdown",
   "id": "c772914a-ef6a-4e03-852e-032b7038f35d",
   "metadata": {},
   "source": [
    "__a)__ Considerando que ambos multiconjuntos de habilidades estan ordenados en forma creciente,\n",
    "observar que la solución se puede obtener recorriendo los multiconjuntos en orden para\n",
    "realizar los emparejamientos"
   ]
  },
  {
   "cell_type": "markdown",
   "id": "16cac823-4b9a-42f6-83da-caac70c5712a",
   "metadata": {},
   "source": [
    "Recorro las dos listas en simultaneo, si la diferencia entre los dos items es mayor a uno paso al proximo de esa lista, cuando la diferencia no es mayor a uno agrego uno al contador de parejas y sigo a los proximos elementos de las dos listas asi no repito."
   ]
  },
  {
   "cell_type": "markdown",
   "id": "daf0fab8-20a9-4b3e-9cf1-275d91f8b109",
   "metadata": {},
   "source": [
    "__b)__ Diseñar un algoritmo goloso basado en a) que recorra una única vez cada multiconjunto.\n",
    "Explicitar la complejidad temporal y espacial auxiliar."
   ]
  },
  {
   "cell_type": "code",
   "execution_count": 106,
   "id": "839ca95d-d575-49db-b758-935a439b74f0",
   "metadata": {},
   "outputs": [],
   "source": [
    "def Parejas(l1,l2):\n",
    "    cantParejas = 0\n",
    "    i = 0\n",
    "    j = 0\n",
    "    while len(l1)>i and len(l2)>j:\n",
    "            if abs(l1[i]-l2[j])>1:\n",
    "                if l1[i]>l2[j]:\n",
    "                    j +=1\n",
    "                elif l1[i]<=l2[j]:\n",
    "                    i += 1\n",
    "            else:\n",
    "                 cantParejas +=1\n",
    "                 i +=1\n",
    "                 j +=1\n",
    "    return cantParejas \n",
    "                    "
   ]
  },
  {
   "cell_type": "markdown",
   "id": "5f86470d-5f53-4806-a490-e4b4d60d5953",
   "metadata": {},
   "source": [
    "#### O(|l1|+|l2|)"
   ]
  },
  {
   "cell_type": "markdown",
   "id": "19f0aa8f-e01f-49b8-9775-d8918c85d5a5",
   "metadata": {},
   "source": [
    "__c)__ Demostrar que el algoritmo dado en b) es correcto"
   ]
  },
  {
   "cell_type": "markdown",
   "id": "9a104d08-abee-4a66-bb67-db260080e263",
   "metadata": {},
   "source": [
    "Sea l1,l2 multiconj ordenados crecientes, A el conjunto de parejas elegidas por el algoritmo greedy y O el conjunto optimo, vamos a probar que |A| = |O|  \n",
    "Demostremos que cualquier solucion O se puede convertir en una solucion greedy sin disminuir la cantidad de parejas "
   ]
  },
  {
   "cell_type": "markdown",
   "id": "0762347f-a060-44f5-a274-ae582c315605",
   "metadata": {},
   "source": [
    "Sea x el menor elemento emparejable en l1, y el primer elemento tal que |x-y|<= 1.  (x,y) sera la primera pareja del Conjunto A"
   ]
  },
  {
   "cell_type": "markdown",
   "id": "5553a502-292b-4c77-934c-fadf54298996",
   "metadata": {},
   "source": [
    "#### Analizo por casos:"
   ]
  },
  {
   "cell_type": "markdown",
   "id": "bf175441-938d-434a-8ac5-f4d0a5d7fd0d",
   "metadata": {},
   "source": [
    "__Caso 1__ $(x,y) \\in O:$ Si la pareja ya esta en la solucion optima no hay nada que cambiar"
   ]
  },
  {
   "cell_type": "markdown",
   "id": "6b94182d-b071-4590-8877-f44a63e7e4ab",
   "metadata": {},
   "source": [
    "__Caso 2__ $(x,z) \\in O \\land y\\neq z$:"
   ]
  },
  {
   "cell_type": "markdown",
   "id": "3358ae79-4d02-4780-b282-f39909417916",
   "metadata": {},
   "source": [
    "Opcion 1: z=x, entonces (x,x), pero no puede existir un y<z porque significaria que y<x y x no seria el menor elemento, entonces x=y pero esto implicaria y=z ABS!"
   ]
  },
  {
   "cell_type": "markdown",
   "id": "37f1fbf8-3498-4094-81ec-a7570c8e22d3",
   "metadata": {},
   "source": [
    "Opcion 2: z=x+1, entonces x=y porque si y<x no cumpliria la diferencia de <1 (ya que x es el minimo), entonces tenemos de pareja optima (x,x+1)\n",
    "- si y=x no esta emparejado con nadie, cambio z por y y mantengo la cantidad de soluciones\n",
    "- si y=x esta emparejado con un elemento w, w debe ser x o x+1 porque si es x-1 rompe que x es el minimo. Si w=x la pareja (x,x) tendria que ser la optima en vez de (x,x+1), entonces w=x+1.\n",
    "como w=x+1 y z=x+1 puedo reemplazar las parejas y mantengo la cantidad. me va a quedar (x,x) y (x+1,x+1)"
   ]
  },
  {
   "cell_type": "markdown",
   "id": "9d714f51-c0e3-4073-92f4-5792f37e2e44",
   "metadata": {},
   "source": [
    "__Caso 3__ $x \\notin O$"
   ]
  },
  {
   "cell_type": "markdown",
   "id": "20822d52-41e2-4973-8318-18bcefda2295",
   "metadata": {},
   "source": [
    "Si x no pertenece a la solucion optima, debe existir una pareja que tenga a x+1, porque si no (x,x+1) deberia ser la solucion optima.  \n",
    "Entonces (x+1,x+1) o (x+1,x+2) $\\in O$. En ambos casos puedo reemplazar por la pareja greedy sin modificar la respuesta"
   ]
  },
  {
   "cell_type": "markdown",
   "id": "146324b1-60f7-4ac3-bd81-2e7351ebf77f",
   "metadata": {},
   "source": [
    "De esta forma se puede extender al resto de elementos y asi demostrar que cambiar los elementos de la solucion optima por la de greedy no empeora la solucion, entonces greedy es optimo"
   ]
  },
  {
   "cell_type": "markdown",
   "id": "90c9229f-3ec2-4e45-93d1-247eb29e6927",
   "metadata": {},
   "source": [
    "---"
   ]
  },
  {
   "cell_type": "markdown",
   "id": "62955d6f-fb0e-436e-9a8c-44c8127cd917",
   "metadata": {},
   "source": [
    "# Ej 2: SumaSelectiva"
   ]
  },
  {
   "cell_type": "markdown",
   "id": "d76b864c-816b-4c2c-80cf-b4c63127cb9b",
   "metadata": {},
   "source": [
    "__a)__ Ordeno la lista en orden decreciente, agrego los primeros k elementos a una lista S y los voy sumando. Al final devuelvo la lista S"
   ]
  },
  {
   "cell_type": "markdown",
   "id": "fc149a4b-2014-4626-af42-0d61774c35f4",
   "metadata": {},
   "source": [
    "Sea S el conjunto greedy y O el conjunto optimo, supongo que $\\sum O \\geq \\sum S$, sea $S_{i} \\notin O$ el elemento mas pequeño de S, entonces existe un $O_{j}$ tal que $S_{i}>O_{j}$,  \n",
    "pues este $O_{j}$ Sale de X\\S.  Pero esto significa que O no es la solucion optima porque tiene un elemento que es menor a todos los de S"
   ]
  },
  {
   "cell_type": "markdown",
   "id": "760ab48b-8d93-4a36-afa3-470d0c8ed165",
   "metadata": {},
   "source": [
    "Esto nos dice que no puede existir un conjunto O que no sea S, por lo tanto el algoritmo greedy es correcto"
   ]
  },
  {
   "cell_type": "markdown",
   "id": "370e4be8-9534-4aa2-8522-0e6f6ee4b910",
   "metadata": {},
   "source": [
    "__b)__ O(n log n)"
   ]
  },
  {
   "cell_type": "code",
   "execution_count": 70,
   "id": "731f39f6-47af-437a-b864-fde2389382a3",
   "metadata": {},
   "outputs": [],
   "source": [
    "def SumaSelectiva(l,k):\n",
    "    mergeSort(S)\n",
    "    suma = 0\n",
    "    s = []\n",
    "    for i in range(0,k):\n",
    "        suma += s[i]\n",
    "        s.append(s[i])\n",
    "    return s"
   ]
  },
  {
   "cell_type": "markdown",
   "id": "8e6f2122-18a4-4a16-875b-9e38270088e5",
   "metadata": {},
   "source": [
    "__c)__ O(n log k)"
   ]
  },
  {
   "cell_type": "code",
   "execution_count": 77,
   "id": "a28c2434-6a30-4daa-a278-859799d57cc8",
   "metadata": {},
   "outputs": [],
   "source": [
    "def SumaSelectiva(l,k):\n",
    "    minHeap = []\n",
    "    for x in X:\n",
    "        if len(minheap) < k:\n",
    "            heapq.heappush(minHeap, x)\n",
    "        elif x > heap[0]:\n",
    "           heapq.heappushpop(minHeap, x)\n",
    "    return sum(minHeap)"
   ]
  },
  {
   "cell_type": "markdown",
   "id": "d2af4038-6ef9-427d-823e-2c70a386c415",
   "metadata": {},
   "source": [
    "---"
   ]
  },
  {
   "cell_type": "markdown",
   "id": "93f425dd-f8e9-4aa0-839b-003393184402",
   "metadata": {},
   "source": [
    "# Ej 3: SumaGolosa"
   ]
  },
  {
   "cell_type": "markdown",
   "id": "f7c5b2e9-9182-4c59-a141-f582979a6ecb",
   "metadata": {},
   "source": [
    "__a)__"
   ]
  },
  {
   "cell_type": "markdown",
   "id": "0fd32286-76f8-4b17-bf25-742665f4b3d5",
   "metadata": {},
   "source": [
    "Algoritmo: \n",
    "- Ordenar los numeros de forma ascendente\n",
    "- agarro los dos valores mas pequeños, x e y\n",
    "-  saco de la lista x e y, agrego x+y\n",
    "-  repito\n",
    "-  El algoritmo devuelve el ultimo elemento"
   ]
  },
  {
   "cell_type": "markdown",
   "id": "f80642ff-dfbf-43ed-b8c5-84d5628a4aa0",
   "metadata": {},
   "source": [
    "__b)__"
   ]
  },
  {
   "cell_type": "markdown",
   "id": "f68b2ec9-f0e7-4866-82c9-aa7746d411e9",
   "metadata": {},
   "source": [
    "Sean a,b los valores mas pequeños, supongo que existe una solucion optima que no comienza sumando a+b  \n",
    "Esto significa que existe un c tal que primero se suma c+a, entonces $c> a\\geq b$  \n",
    "Como c+a>a+b pues c>b, esto significa que si se suma primero c+a va a aumentar el costo porque el valor es acumulativo de las anteriores sumas, esto significa que los primeros valores se suman mas veces que los posteriores, haciendo que esta solucion no sea la optima  \n",
    "Queda asi demostrado que no existe otra solucion optima que no sea sumando de a los valores mas pequeños"
   ]
  },
  {
   "cell_type": "markdown",
   "id": "6cc2c7a3-51ff-4a4d-a9c3-4c6fe563ea80",
   "metadata": {},
   "source": [
    "__c)__"
   ]
  },
  {
   "cell_type": "code",
   "execution_count": 96,
   "id": "90fc2960-4b97-4ba7-ad4f-237d69879c4d",
   "metadata": {},
   "outputs": [],
   "source": [
    "def sumaGolosa(X): \n",
    "    X = minHeap()\n",
    "    costo = 0\n",
    "    if len(X) == 0:\n",
    "        return 0\n",
    "    else:\n",
    "        while len(X)>1:\n",
    "            x = heappop(X)\n",
    "            y = heappop(X)\n",
    "            suma = x + y\n",
    "            costo += suma\n",
    "            heappush(X, suma)\n",
    "        return costo"
   ]
  },
  {
   "cell_type": "markdown",
   "id": "350f3a30-d83f-46ed-a0bc-61a8a38e693e",
   "metadata": {},
   "source": [
    "# Ej 4: RutaEficiente"
   ]
  },
  {
   "cell_type": "markdown",
   "id": "cdc29f39-74bf-41f1-b2fc-5e8d23b04b31",
   "metadata": {},
   "source": [
    "__a)__  \n",
    "Algoritmo: \n",
    "- Desde la estacion actual, busco la estacion mas lejana sin pasarme de C\n",
    "- Para ahi\n",
    "- Repito  "
   ]
  },
  {
   "cell_type": "markdown",
   "id": "da13b7d5-0f34-4680-8d84-64aad1a56fc0",
   "metadata": {},
   "source": [
    "Demostracion:  \n",
    "Hip: Supongo que para llegar a cualquier $x_{i}$ el algoritmo elije la minima cantidad de paradas  \n",
    "Supongo que el algoritmo hace la menor cantidad de paradas hasta $x_{i}$,  \n",
    "QVQ desde $x_{i}$, el algoritmo elije $x'_{i}$ tal que $x'_{i}-x_{i} \\leq C$  \n",
    "Supongo que existe una solucion optima mas cercana, donde para en $x_{k}<x'_{i}$   \n",
    "Pero como $x'_{i}$ tambien es alcanzable sin pasar de C, reemplazar $x_{k}$ por $x'_{i}$ no aumenta cantidad de paradas  \n",
    "Entonces El algoritmo devuelve la solucion optima\n",
    "\n",
    "Panteo mi solucion greedy de la forma G={$g_{0},g_{1},...g_{n}$} y la optima O={$o_{0},o_{1},...o_{n}$}  \n",
    "Hipotesis: $o_{i} \\leq g_{i} \\Rightarrow $ \n"
   ]
  },
  {
   "cell_type": "markdown",
   "id": "7e9f436c-89ab-482e-9288-af4f1015ea31",
   "metadata": {},
   "source": [
    "---"
   ]
  },
  {
   "cell_type": "markdown",
   "id": "b3909dd3-ebd0-493e-adb7-83968fe6b0da",
   "metadata": {},
   "source": [
    "Planteo mi solución greedy (que cumple que es el maximo en el intervalo (xi,xi+c])y la optima\n",
    "caso base:\n",
    "G = {g0,g1,...,gn}\n",
    "O = {s0,s1,...,sn}\n",
    "\n",
    "g0 = 0 = s0\n",
    "\n",
    "HI: si si$\\leq$gi.  \n",
    "PI: s i+1 $\\leq$ g i +1\n"
   ]
  },
  {
   "cell_type": "markdown",
   "id": "f5c4df2a-f876-4f9c-adbd-a3b1a393ee9a",
   "metadata": {},
   "source": [
    "__b)__"
   ]
  },
  {
   "cell_type": "code",
   "execution_count": 16,
   "id": "b4180f3d-3422-49bb-9c10-c6ff3992a5c8",
   "metadata": {},
   "outputs": [],
   "source": [
    "def rutaEficiente(l,c):\n",
    "    paradas = []\n",
    "    n = len(l)\n",
    "    i = 0\n",
    "    while i < n -1:\n",
    "        j = i\n",
    "        while j+1< n and l[j+1]-x[i]<=c:\n",
    "            j += 1\n",
    "        paradas.append(l[j])\n",
    "        i = j\n",
    "    return paradas"
   ]
  },
  {
   "cell_type": "markdown",
   "id": "949bde25-8116-406a-aba8-16609ab3a38b",
   "metadata": {},
   "source": [
    "# Ej 5: DivisiónPandémica"
   ]
  },
  {
   "cell_type": "markdown",
   "id": "a6592ba6-99a7-472a-b0c4-3e18ce616fa2",
   "metadata": {},
   "source": [
    "__a)__ \n",
    "__Precondicion:__ divisionPandemica(E,C) donde E={conjunto de estudiantes} y C $\\subseteq$ ExE, donde cada (i,j) $\\in$ C $\\iff$ alumnos i y j son \"cercanos\"  \n",
    "__Postcondicion:__ dos conjuntos A,B tal que $A \\cap B = \\emptyset $ $\\land$ $A \\cup B = E$  \n",
    "|$(A \\times A) \\cap C| \\leq \\frac{|C|}{2}, \\quad \\text{y} \\quad |(B \\times B) \\cap C| \\leq \\frac{|C|}{2}$"
   ]
  },
  {
   "cell_type": "markdown",
   "id": "786d5e88-7c91-4842-a579-7e660fd90597",
   "metadata": {},
   "source": [
    "__b)__ demo por induccion en la cant de estudiantes  \n",
    "- Base: n= 1, no hay pares en C, cualquier particion es valida\n",
    "- Hip: supongo que para todo conj de estudiantes existe una particion valida\n",
    "- Paso inductivo:  Sea E un conj de n+1 estudiantes, siendo u $\\in$ E, por Hip podemos partir E/{u} en A y B validos  \n",
    "$|(A \\times A) \\cap C| \\leq \\frac{|C'|}{2}, \\quad \\text{y} \\quad |(B \\times B) \\cap C| \\leq \\frac{|C'|}{2}$, con C' = {C$\\cap$(E/{u})x(E/{u})}, ahora hay que ubicar a u , si $|({u} \\times A) \\cap C| \\leq |({u} \\times B) \\cap C|$,  \n",
    "la agrego a A, si es mayor a B. Por Hip se que tiene que existir una particion valida.  \n",
    "Esto garantiza que minimizo el aumento de pares internos\n",
    "\n"
   ]
  },
  {
   "cell_type": "markdown",
   "id": "062ad480-2fd2-4934-a62b-877690784866",
   "metadata": {},
   "source": [
    "__c)__  \n",
    "- Inicio A,B vacios\n",
    "- para cada estudiante $e\\in E$:\n",
    "    - cuento cuantos vecinos tiene en A y B  \n",
    "    - agrego e al de menor cantidad"
   ]
  },
  {
   "cell_type": "markdown",
   "id": "7e121b4f-fdeb-4bcc-b8a0-6cbe1ae70d48",
   "metadata": {},
   "source": [
    "# Ej 6: MaxMex"
   ]
  },
  {
   "cell_type": "markdown",
   "id": "9e6f51bf-7d65-405f-b74b-d88f95598758",
   "metadata": {},
   "source": [
    "__a)__\n",
    "mex(X) $\\leq$ n\n",
    "noto que si X $\\subseteq Y \\Rightarrow$ mex(X) $\\leq$ mex(Y)  \n",
    "Para aumentar Mex({0,...j}), los numeros mejores a j deben estar en el conjunto,  \n",
    "lo que me dice que para aumentar el mex tengo que crear las permutaciones en orden ascendente  \n",
    "__Algoritmo:__ \n",
    "- Ordeno el conjunto de menor a mayor\n",
    "- Recorro el conjunto y voy calculando mex con cada uno de los subconjuntos"
   ]
  },
  {
   "cell_type": "markdown",
   "id": "15b37705-5ccd-49f2-bdd8-a92ad6af97fd",
   "metadata": {},
   "source": [
    "__b)__"
   ]
  },
  {
   "cell_type": "code",
   "execution_count": 59,
   "id": "9e323e10-8e9d-4cdf-8dfc-b13fe795b066",
   "metadata": {},
   "outputs": [],
   "source": [
    "def maxMex(X):\n",
    "    \n",
    "    s = [0]*(len(X)+1)\n",
    "    cuenta = 0\n",
    "    for i in X:\n",
    "        if i< len(X)+1:\n",
    "            s[i] = 1\n",
    "    if s[0] == 0:\n",
    "        return 0\n",
    "    for j in range(len(s)):\n",
    "        if s[j] == 1:\n",
    "            cuenta+=(j+1)\n",
    "        else:\n",
    "            break\n",
    "    cuenta += (len(X)-j)*j\n",
    "    return cuenta  "
   ]
  },
  {
   "cell_type": "markdown",
   "id": "b560ac95-a50f-4242-8678-07ffe92adf93",
   "metadata": {},
   "source": [
    "# Ej 7: CacheOpt"
   ]
  },
  {
   "cell_type": "markdown",
   "id": "4546c960-24b2-4b3d-8334-f303a636d84d",
   "metadata": {},
   "source": []
  },
  {
   "cell_type": "markdown",
   "id": "27596fab-b6d3-4056-81a0-095c321ad292",
   "metadata": {},
   "source": [
    "# Ej 8: SelecciondeActividades"
   ]
  },
  {
   "cell_type": "markdown",
   "id": "986664f6-ae0a-401d-ba36-596fcd628b00",
   "metadata": {},
   "source": []
  }
 ],
 "metadata": {
  "kernelspec": {
   "display_name": "Python [conda env:base] *",
   "language": "python",
   "name": "conda-base-py"
  },
  "language_info": {
   "codemirror_mode": {
    "name": "ipython",
    "version": 3
   },
   "file_extension": ".py",
   "mimetype": "text/x-python",
   "name": "python",
   "nbconvert_exporter": "python",
   "pygments_lexer": "ipython3",
   "version": "3.12.7"
  }
 },
 "nbformat": 4,
 "nbformat_minor": 5
}
